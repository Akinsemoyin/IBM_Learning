{
  "nbformat": 4,
  "nbformat_minor": 0,
  "metadata": {
    "colab": {
      "provenance": []
    },
    "kernelspec": {
      "name": "python3",
      "display_name": "Python 3"
    },
    "language_info": {
      "name": "python"
    }
  },
  "cells": [
    {
      "cell_type": "code",
      "execution_count": 1,
      "metadata": {
        "colab": {
          "base_uri": "https://localhost:8080/"
        },
        "id": "p8TB96BKSEbb",
        "outputId": "35e13795-4d82-479d-a9e1-d6dfbf0ecfc8"
      },
      "outputs": [
        {
          "output_type": "stream",
          "name": "stdout",
          "text": [
            "Collecting osmnx\n",
            "  Downloading osmnx-1.5.1-py3-none-any.whl (98 kB)\n",
            "\u001b[?25l     \u001b[90m━━━━━━━━━━━━━━━━━━━━━━━━━━━━━━━━━━━━━━━━\u001b[0m \u001b[32m0.0/98.8 kB\u001b[0m \u001b[31m?\u001b[0m eta \u001b[36m-:--:--\u001b[0m\r\u001b[2K     \u001b[91m━━━━━━━━━━━━━━━━\u001b[0m\u001b[91m╸\u001b[0m\u001b[90m━━━━━━━━━━━━━━━━━━━━━━━\u001b[0m \u001b[32m41.0/98.8 kB\u001b[0m \u001b[31m1.0 MB/s\u001b[0m eta \u001b[36m0:00:01\u001b[0m\r\u001b[2K     \u001b[90m━━━━━━━━━━━━━━━━━━━━━━━━━━━━━━━━━━━━━━━━\u001b[0m \u001b[32m98.8/98.8 kB\u001b[0m \u001b[31m1.4 MB/s\u001b[0m eta \u001b[36m0:00:00\u001b[0m\n",
            "\u001b[?25hRequirement already satisfied: geopandas in /usr/local/lib/python3.10/dist-packages (0.13.2)\n",
            "Requirement already satisfied: networkx>=2.5 in /usr/local/lib/python3.10/dist-packages (from osmnx) (3.1)\n",
            "Requirement already satisfied: numpy>=1.20 in /usr/local/lib/python3.10/dist-packages (from osmnx) (1.22.4)\n",
            "Requirement already satisfied: pandas>=1.1 in /usr/local/lib/python3.10/dist-packages (from osmnx) (1.5.3)\n",
            "Requirement already satisfied: requests>=2.25 in /usr/local/lib/python3.10/dist-packages (from osmnx) (2.27.1)\n",
            "Requirement already satisfied: shapely>=2.0 in /usr/local/lib/python3.10/dist-packages (from osmnx) (2.0.1)\n",
            "Requirement already satisfied: fiona>=1.8.19 in /usr/local/lib/python3.10/dist-packages (from geopandas) (1.9.4.post1)\n",
            "Requirement already satisfied: packaging in /usr/local/lib/python3.10/dist-packages (from geopandas) (23.1)\n",
            "Requirement already satisfied: pyproj>=3.0.1 in /usr/local/lib/python3.10/dist-packages (from geopandas) (3.6.0)\n",
            "Requirement already satisfied: attrs>=19.2.0 in /usr/local/lib/python3.10/dist-packages (from fiona>=1.8.19->geopandas) (23.1.0)\n",
            "Requirement already satisfied: certifi in /usr/local/lib/python3.10/dist-packages (from fiona>=1.8.19->geopandas) (2023.5.7)\n",
            "Requirement already satisfied: click~=8.0 in /usr/local/lib/python3.10/dist-packages (from fiona>=1.8.19->geopandas) (8.1.4)\n",
            "Requirement already satisfied: click-plugins>=1.0 in /usr/local/lib/python3.10/dist-packages (from fiona>=1.8.19->geopandas) (1.1.1)\n",
            "Requirement already satisfied: cligj>=0.5 in /usr/local/lib/python3.10/dist-packages (from fiona>=1.8.19->geopandas) (0.7.2)\n",
            "Requirement already satisfied: six in /usr/local/lib/python3.10/dist-packages (from fiona>=1.8.19->geopandas) (1.16.0)\n",
            "Requirement already satisfied: python-dateutil>=2.8.1 in /usr/local/lib/python3.10/dist-packages (from pandas>=1.1->osmnx) (2.8.2)\n",
            "Requirement already satisfied: pytz>=2020.1 in /usr/local/lib/python3.10/dist-packages (from pandas>=1.1->osmnx) (2022.7.1)\n",
            "Requirement already satisfied: urllib3<1.27,>=1.21.1 in /usr/local/lib/python3.10/dist-packages (from requests>=2.25->osmnx) (1.26.16)\n",
            "Requirement already satisfied: charset-normalizer~=2.0.0 in /usr/local/lib/python3.10/dist-packages (from requests>=2.25->osmnx) (2.0.12)\n",
            "Requirement already satisfied: idna<4,>=2.5 in /usr/local/lib/python3.10/dist-packages (from requests>=2.25->osmnx) (3.4)\n",
            "Installing collected packages: osmnx\n",
            "Successfully installed osmnx-1.5.1\n"
          ]
        }
      ],
      "source": [
        "pip install osmnx geopandas\n"
      ]
    },
    {
      "cell_type": "code",
      "source": [
        "import osmnx\n",
        "import geopandas as gpd\n",
        "from shapely.geometry import Point\n",
        "\n",
        "from google.colab import drive\n",
        "drive.mount('/content/drive')\n"
      ],
      "metadata": {
        "colab": {
          "base_uri": "https://localhost:8080/"
        },
        "id": "atto0ithSM2t",
        "outputId": "c72dd083-1ec0-4c2e-cd22-b427832ea75f"
      },
      "execution_count": 11,
      "outputs": [
        {
          "output_type": "stream",
          "name": "stdout",
          "text": [
            "Drive already mounted at /content/drive; to attempt to forcibly remount, call drive.mount(\"/content/drive\", force_remount=True).\n"
          ]
        }
      ]
    },
    {
      "cell_type": "code",
      "source": [
        "County = \"Montgomery County, Maryland, USA\"\n",
        "Bus_stop = osmnx.geometries_from_place(\n",
        "    County,\n",
        "    {\n",
        "        \"highway\": \"bus_stop\"\n",
        "    }\n",
        ")\n"
      ],
      "metadata": {
        "colab": {
          "base_uri": "https://localhost:8080/"
        },
        "id": "7wfz4ItkXDuz",
        "outputId": "e35bceb1-88d7-45b3-8204-e5923a9d149b"
      },
      "execution_count": 4,
      "outputs": [
        {
          "output_type": "stream",
          "name": "stderr",
          "text": [
            "<ipython-input-4-e62523fc6a0f>:2: UserWarning: The `geometries` module and `geometries_from_X` functions have been renamed the `features` module and `features_from_X` functions. Use these instead. The `geometries` module and function names are deprecated and will be removed in a future release.\n",
            "  Bus_stop = osmnx.geometries_from_place(\n"
          ]
        }
      ]
    },
    {
      "cell_type": "code",
      "source": [
        "def export_to_shapefile(data, output_shapefile):\n",
        "    # Convert the data to a GeoDataFrame\n",
        "    gdf = gpd.GeoDataFrame(data, crs=\"EPSG:4326\")\n",
        "\n",
        "    # Save the GeoDataFrame to a shapefile\n",
        "    gdf.to_file(output_shapefile)\n"
      ],
      "metadata": {
        "id": "EVZtObWRXS9m"
      },
      "execution_count": 5,
      "outputs": []
    },
    {
      "cell_type": "code",
      "source": [
        "# Replace \"output.shp\" with the desired output shapefile path in your Google Drive\n",
        "output_shapefile = \"/content/drive/MyDrive/bus_stop\"\n",
        "\n",
        "# Export the data to a shapefile and save it to Google Drive\n",
        "export_to_shapefile(Bus_stop, output_shapefile)\n",
        "\n"
      ],
      "metadata": {
        "colab": {
          "base_uri": "https://localhost:8080/"
        },
        "id": "KyDFLppUXZxL",
        "outputId": "3bd5004f-5862-4677-add2-66120e4fd8b6"
      },
      "execution_count": 12,
      "outputs": [
        {
          "output_type": "stream",
          "name": "stderr",
          "text": [
            "<ipython-input-5-10b8515900bf>:6: UserWarning: Column names longer than 10 characters will be truncated when saved to ESRI Shapefile.\n",
            "  gdf.to_file(output_shapefile)\n",
            "ERROR:fiona._env:/content/drive/MyDrive/bus_stop: Is a directory\n",
            "WARNING:fiona._env:Normalized/laundered field name: 'element_type' to 'element_ty'\n",
            "WARNING:fiona._env:Normalized/laundered field name: 'network:wikidata' to 'network_wi'\n",
            "WARNING:fiona._env:Normalized/laundered field name: 'public_transport' to 'public_tra'\n",
            "WARNING:fiona._env:Normalized/laundered field name: 'departures_board' to 'departures'\n",
            "WARNING:fiona._env:Normalized/laundered field name: 'network:wikipedia' to 'network__1'\n",
            "WARNING:fiona._env:Normalized/laundered field name: 'tactile_paving' to 'tactile_pa'\n",
            "WARNING:fiona._env:Normalized/laundered field name: 'operator:wikidata' to 'operator_w'\n",
            "WARNING:fiona._env:Normalized/laundered field name: 'passenger_information_display' to 'passenger_'\n",
            "WARNING:fiona._env:Normalized/laundered field name: 'note:phone' to 'note_phone'\n",
            "WARNING:fiona._env:Normalized/laundered field name: 'operator:wikipedia' to 'operator_1'\n",
            "WARNING:fiona._env:Normalized/laundered field name: 'addr:city' to 'addr_city'\n",
            "WARNING:fiona._env:Normalized/laundered field name: 'check_date:bench' to 'check_date'\n",
            "WARNING:fiona._env:Normalized/laundered field name: 'commuter_bus' to 'commuter_b'\n",
            "WARNING:fiona._env:Normalized/laundered field name: 'operator:short' to 'operator_s'\n",
            "WARNING:fiona._env:Normalized/laundered field name: 'not:network:wikidata' to 'not_networ'\n",
            "WARNING:fiona._env:Normalized/laundered field name: 'check_date:shelter' to 'check_da_1'\n"
          ]
        }
      ]
    },
    {
      "cell_type": "code",
      "source": [
        "us"
      ],
      "metadata": {
        "id": "awz2WxF-YDy9"
      },
      "execution_count": null,
      "outputs": []
    }
  ]
}